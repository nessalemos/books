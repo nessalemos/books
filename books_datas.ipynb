{
  "nbformat": 4,
  "nbformat_minor": 0,
  "metadata": {
    "colab": {
      "provenance": [],
      "authorship_tag": "ABX9TyOhukBBVCgVpbi1Lf4tz8ZR",
      "include_colab_link": true
    },
    "kernelspec": {
      "name": "python3",
      "display_name": "Python 3"
    },
    "language_info": {
      "name": "python"
    }
  },
  "cells": [
    {
      "cell_type": "markdown",
      "metadata": {
        "id": "view-in-github",
        "colab_type": "text"
      },
      "source": [
        "<a href=\"https://colab.research.google.com/github/nessalemos/books/blob/main/books_datas.ipynb\" target=\"_parent\"><img src=\"https://colab.research.google.com/assets/colab-badge.svg\" alt=\"Open In Colab\"/></a>"
      ]
    },
    {
      "cell_type": "code",
      "execution_count": null,
      "metadata": {
        "id": "OMdi38yRSc_X"
      },
      "outputs": [],
      "source": [
        "import pandas as pd\n",
        "url = \"/content/todos_livros.csv\"\n",
        "books_info = pd.read_csv(url)"
      ]
    },
    {
      "cell_type": "code",
      "source": [
        "print('First Lines')\n",
        "print(books_info.head())\n",
        "\n",
        "print('Data infos')\n",
        "print(books_info.info())\n",
        "\n",
        "print('Null Datas')\n",
        "print(books_info.isnull().sum())"
      ],
      "metadata": {
        "colab": {
          "base_uri": "https://localhost:8080/"
        },
        "collapsed": true,
        "id": "KoMs8UKvTrla",
        "outputId": "140ee180-1cb3-4c68-b158-ac81afa2a4fa"
      },
      "execution_count": null,
      "outputs": [
        {
          "output_type": "stream",
          "name": "stdout",
          "text": [
            "First Lines\n",
            "  Skoob                        Name    Score /5            Editora  \\\n",
            "0   Yes             O sol desvelado         NaN               Alef   \n",
            "1   Yes        Os robôs da alvorado         NaN               Alef   \n",
            "2   Yes             Robôs e Império         NaN               Alef   \n",
            "3   Yes           Loucos por Livros  ⭐️⭐️⭐️⭐️⭐️              Verus   \n",
            "4   Yes  E foi assim que tudo mudou    ⭐️⭐️⭐️⭐️  ‎ Astral Cultural   \n",
            "\n",
            "            Autor Genero Autor Nacionalidade     Lingua Terminado em:  \\\n",
            "0    Isaac Asimov        Homem         Russo  Portugues           NaN   \n",
            "1    Isaac Asimov        Homem         Russo  Portugues           NaN   \n",
            "2    Isaac Asimov        Homem         Russo  Portugues           NaN   \n",
            "3     Emily Henry       Mulher           Usa  Portugues    2023/11/12   \n",
            "4  Thais Bergmann       Mulher        Brasil  Portugues    2023/11/05   \n",
            "\n",
            "         Status  ... Serie  Ano Compra Formato             Genêro  \\\n",
            "0  Não começado  ...    No        2023  Fisico  Ficção Cientifica   \n",
            "1  Não começado  ...    No        2023  Fisico  Ficção Cientifica   \n",
            "2  Não começado  ...    No        2023  Fisico  Ficção Cientifica   \n",
            "3          Lido  ...    No        2023  Fisico            Romance   \n",
            "4          Lido  ...    No        2023  Fisico            Romance   \n",
            "\n",
            "        Nacional  Traduzido Doar Número de paginas total Minoria Cliche  \n",
            "0  Internacional  Traduzido   No                     NaN     NaN    NaN  \n",
            "1  Internacional  Traduzido   No                     NaN     NaN    NaN  \n",
            "2  Internacional  Traduzido   No                     NaN     NaN    NaN  \n",
            "3  Internacional  Traduzido   No                   434.0     NaN    NaN  \n",
            "4       Nacional         Na   No                   240.0     NaN    NaN  \n",
            "\n",
            "[5 rows x 26 columns]\n",
            "Data infos\n",
            "<class 'pandas.core.frame.DataFrame'>\n",
            "RangeIndex: 295 entries, 0 to 294\n",
            "Data columns (total 26 columns):\n",
            " #   Column                   Non-Null Count  Dtype  \n",
            "---  ------                   --------------  -----  \n",
            " 0   Skoob                    295 non-null    object \n",
            " 1   Name                     295 non-null    object \n",
            " 2   Score /5                 146 non-null    object \n",
            " 3   Editora                  276 non-null    object \n",
            " 4   Autor                    295 non-null    object \n",
            " 5   Genero Autor             295 non-null    object \n",
            " 6   Nacionalidade            295 non-null    object \n",
            " 7   Lingua                   279 non-null    object \n",
            " 8   Terminado em:            55 non-null     object \n",
            " 9   Status                   276 non-null    object \n",
            " 10  Tenho                    295 non-null    object \n",
            " 11  Tentativas de leitura    19 non-null     float64\n",
            " 12  Ku                       295 non-null    object \n",
            " 13  Prime                    295 non-null    object \n",
            " 14  HQ                       295 non-null    object \n",
            " 15  Meta 2023                295 non-null    object \n",
            " 16  Serie                    295 non-null    object \n",
            " 17  Ano Compra               266 non-null    object \n",
            " 18  Formato                  276 non-null    object \n",
            " 19  Genêro                   275 non-null    object \n",
            " 20  Nacional                 279 non-null    object \n",
            " 21  Traduzido                245 non-null    object \n",
            " 22  Doar                     295 non-null    object \n",
            " 23  Número de paginas total  22 non-null     float64\n",
            " 24  Minoria                  5 non-null      object \n",
            " 25  Cliche                   1 non-null      object \n",
            "dtypes: float64(2), object(24)\n",
            "memory usage: 60.1+ KB\n",
            "None\n",
            "nulls\n",
            "Skoob                        0\n",
            "Name                         0\n",
            "Score /5                   149\n",
            "Editora                     19\n",
            "Autor                        0\n",
            "Genero Autor                 0\n",
            "Nacionalidade                0\n",
            "Lingua                      16\n",
            "Terminado em:              240\n",
            "Status                      19\n",
            "Tenho                        0\n",
            "Tentativas de leitura      276\n",
            "Ku                           0\n",
            "Prime                        0\n",
            "HQ                           0\n",
            "Meta 2023                    0\n",
            "Serie                        0\n",
            "Ano Compra                  29\n",
            "Formato                     19\n",
            "Genêro                      20\n",
            "Nacional                    16\n",
            "Traduzido                   50\n",
            "Doar                         0\n",
            "Número de paginas total    273\n",
            "Minoria                    290\n",
            "Cliche                     294\n",
            "dtype: int64\n"
          ]
        }
      ]
    },
    {
      "cell_type": "code",
      "source": [
        "filtro = books_info[(books_info['Autor'] == 'Stephen King') & (books_info['Editora'].isnull())]\n",
        "print(filtro)"
      ],
      "metadata": {
        "colab": {
          "base_uri": "https://localhost:8080/"
        },
        "collapsed": true,
        "id": "tRj-gS1QUMqU",
        "outputId": "25cee1e4-b39a-4ead-e1fe-97384744ffa7"
      },
      "execution_count": null,
      "outputs": [
        {
          "output_type": "stream",
          "name": "stdout",
          "text": [
            "    Skoob                                     Name Score /5 Editora  \\\n",
            "279    No                           Dança da morte      NaN     NaN   \n",
            "280    No                               Zona Morta      NaN     NaN   \n",
            "281    No                            A incendiaria      NaN     NaN   \n",
            "282    No                            Dança macabra      NaN     NaN   \n",
            "283    No                                     Cujo      NaN     NaN   \n",
            "284    No          Saga Torre Negra - O pistoleiro      NaN     NaN   \n",
            "285    No                          Quatro Estações      NaN     NaN   \n",
            "286    No                                Christine      NaN     NaN   \n",
            "287    No                              O cemiterio      NaN     NaN   \n",
            "288    No                                O talismã      NaN     NaN   \n",
            "289    No                               A maldição      NaN     NaN   \n",
            "290    No                      A hora do lobisomen      NaN     NaN   \n",
            "291    No                 Tripulação de esqueletos      NaN     NaN   \n",
            "292    No                             It - a coisa      NaN     NaN   \n",
            "293    No                       Os olhos do dragão      NaN     NaN   \n",
            "294    No  Saga da torre Negra - Terras devastadas      NaN     NaN   \n",
            "\n",
            "            Autor Genero Autor Nacionalidade Lingua Terminado em: Status  ...  \\\n",
            "279  Stephen King        Homem           Usa    NaN           NaN    NaN  ...   \n",
            "280  Stephen King        Homem           Usa    NaN           NaN    NaN  ...   \n",
            "281  Stephen King        Homem           Usa    NaN           NaN    NaN  ...   \n",
            "282  Stephen King        Homem           Usa    NaN           NaN    NaN  ...   \n",
            "283  Stephen King        Homem           Usa    NaN           NaN    NaN  ...   \n",
            "284  Stephen King        Homem           Usa    NaN           NaN    NaN  ...   \n",
            "285  Stephen King        Homem           Usa    NaN           NaN    NaN  ...   \n",
            "286  Stephen King        Homem           Usa    NaN           NaN    NaN  ...   \n",
            "287  Stephen King        Homem           Usa    NaN           NaN    NaN  ...   \n",
            "288  Stephen King        Homem           Usa    NaN           NaN    NaN  ...   \n",
            "289  Stephen King        Homem           Usa    NaN           NaN    NaN  ...   \n",
            "290  Stephen King        Homem           Usa    NaN           NaN    NaN  ...   \n",
            "291  Stephen King        Homem           Usa    NaN           NaN    NaN  ...   \n",
            "292  Stephen King        Homem           Usa    NaN           NaN    NaN  ...   \n",
            "293  Stephen King        Homem           Usa    NaN           NaN    NaN  ...   \n",
            "294  Stephen King        Homem           Usa    NaN           NaN    NaN  ...   \n",
            "\n",
            "    Serie  Ano Compra Formato Genêro Nacional Traduzido Doar  \\\n",
            "279    No         NaN     NaN    NaN      NaN       NaN   No   \n",
            "280    No         NaN     NaN    NaN      NaN       NaN   No   \n",
            "281    No         NaN     NaN    NaN      NaN       NaN   No   \n",
            "282    No         NaN     NaN    NaN      NaN       NaN   No   \n",
            "283    No         NaN     NaN    NaN      NaN       NaN   No   \n",
            "284    No         NaN     NaN    NaN      NaN       NaN   No   \n",
            "285    No         NaN     NaN    NaN      NaN       NaN   No   \n",
            "286    No         NaN     NaN    NaN      NaN       NaN   No   \n",
            "287    No         NaN     NaN    NaN      NaN       NaN   No   \n",
            "288    No         NaN     NaN    NaN      NaN       NaN   No   \n",
            "289    No         NaN     NaN    NaN      NaN       NaN   No   \n",
            "290    No         NaN     NaN    NaN      NaN       NaN   No   \n",
            "291    No         NaN     NaN    NaN      NaN       NaN   No   \n",
            "292    No         NaN     NaN    NaN      NaN       NaN   No   \n",
            "293    No         NaN     NaN    NaN      NaN       NaN   No   \n",
            "294    No         NaN     NaN    NaN      NaN       NaN   No   \n",
            "\n",
            "    Número de paginas total Minoria Cliche  \n",
            "279                     NaN     NaN    NaN  \n",
            "280                     NaN     NaN    NaN  \n",
            "281                     NaN     NaN    NaN  \n",
            "282                     NaN     NaN    NaN  \n",
            "283                     NaN     NaN    NaN  \n",
            "284                     NaN     NaN    NaN  \n",
            "285                     NaN     NaN    NaN  \n",
            "286                     NaN     NaN    NaN  \n",
            "287                     NaN     NaN    NaN  \n",
            "288                     NaN     NaN    NaN  \n",
            "289                     NaN     NaN    NaN  \n",
            "290                     NaN     NaN    NaN  \n",
            "291                     NaN     NaN    NaN  \n",
            "292                     NaN     NaN    NaN  \n",
            "293                     NaN     NaN    NaN  \n",
            "294                     NaN     NaN    NaN  \n",
            "\n",
            "[16 rows x 26 columns]\n"
          ]
        }
      ]
    },
    {
      "cell_type": "code",
      "source": [
        "books_info.loc[(books_info['Autor'] == 'Stephen King') & (books_info['Editora'].isnull()), 'Editora'] = 'Suma'\n",
        "print(books_info[books_info['Autor'] == 'Stephen King'])"
      ],
      "metadata": {
        "colab": {
          "base_uri": "https://localhost:8080/"
        },
        "collapsed": true,
        "id": "c8SUGlm4V6lQ",
        "outputId": "39ab699e-4788-412b-e065-a0b32437ac0f"
      },
      "execution_count": null,
      "outputs": [
        {
          "output_type": "stream",
          "name": "stdout",
          "text": [
            "    Skoob                                     Name    Score /5 Editora  \\\n",
            "9     Yes                                  Joyland      ⭐️⭐️⭐️    Suma   \n",
            "67    Yes                   Misery: Louca obsessão         NaN    Suma   \n",
            "81    Yes                              O Iluminado         NaN    Suma   \n",
            "123   Yes                                   Carrie  ⭐️⭐️⭐️⭐️⭐️    Suma   \n",
            "127    No                                    Salem         NaN    Suma   \n",
            "279    No                           Dança da morte         NaN    Suma   \n",
            "280    No                               Zona Morta         NaN    Suma   \n",
            "281    No                            A incendiaria         NaN    Suma   \n",
            "282    No                            Dança macabra         NaN    Suma   \n",
            "283    No                                     Cujo         NaN    Suma   \n",
            "284    No          Saga Torre Negra - O pistoleiro         NaN    Suma   \n",
            "285    No                          Quatro Estações         NaN    Suma   \n",
            "286    No                                Christine         NaN    Suma   \n",
            "287    No                              O cemiterio         NaN    Suma   \n",
            "288    No                                O talismã         NaN    Suma   \n",
            "289    No                               A maldição         NaN    Suma   \n",
            "290    No                      A hora do lobisomen         NaN    Suma   \n",
            "291    No                 Tripulação de esqueletos         NaN    Suma   \n",
            "292    No                             It - a coisa         NaN    Suma   \n",
            "293    No                       Os olhos do dragão         NaN    Suma   \n",
            "294    No  Saga da torre Negra - Terras devastadas         NaN    Suma   \n",
            "\n",
            "            Autor Genero Autor Nacionalidade     Lingua Terminado em:  \\\n",
            "9    Stephen King        Homem           Usa  Portugues    2023/04/16   \n",
            "67   Stephen King        Homem           Usa  Portugues           NaN   \n",
            "81   Stephen King        Homem           Usa  Portugues           NaN   \n",
            "123  Stephen King        Homem           Usa  Portugues    2024/01/12   \n",
            "127  Stephen King        Homem           Usa  Portugues           NaN   \n",
            "279  Stephen King        Homem           Usa        NaN           NaN   \n",
            "280  Stephen King        Homem           Usa        NaN           NaN   \n",
            "281  Stephen King        Homem           Usa        NaN           NaN   \n",
            "282  Stephen King        Homem           Usa        NaN           NaN   \n",
            "283  Stephen King        Homem           Usa        NaN           NaN   \n",
            "284  Stephen King        Homem           Usa        NaN           NaN   \n",
            "285  Stephen King        Homem           Usa        NaN           NaN   \n",
            "286  Stephen King        Homem           Usa        NaN           NaN   \n",
            "287  Stephen King        Homem           Usa        NaN           NaN   \n",
            "288  Stephen King        Homem           Usa        NaN           NaN   \n",
            "289  Stephen King        Homem           Usa        NaN           NaN   \n",
            "290  Stephen King        Homem           Usa        NaN           NaN   \n",
            "291  Stephen King        Homem           Usa        NaN           NaN   \n",
            "292  Stephen King        Homem           Usa        NaN           NaN   \n",
            "293  Stephen King        Homem           Usa        NaN           NaN   \n",
            "294  Stephen King        Homem           Usa        NaN           NaN   \n",
            "\n",
            "           Status  ... Serie  Ano Compra Formato    Genêro       Nacional  \\\n",
            "9            Lido  ...    No        2022  Fisico  Suspense  Internacional   \n",
            "67       Em pausa  ...    No        2023  Fisico  Suspense  Internacional   \n",
            "81   Não começado  ...    No        2022  Fisico  Suspense  Internacional   \n",
            "123          Lido  ...    No        2024  Fisico  Suspense  Internacional   \n",
            "127      Em pausa  ...    No        2024  Fisico  Suspense  Internacional   \n",
            "279           NaN  ...    No         NaN     NaN       NaN            NaN   \n",
            "280           NaN  ...    No         NaN     NaN       NaN            NaN   \n",
            "281           NaN  ...    No         NaN     NaN       NaN            NaN   \n",
            "282           NaN  ...    No         NaN     NaN       NaN            NaN   \n",
            "283           NaN  ...    No         NaN     NaN       NaN            NaN   \n",
            "284           NaN  ...    No         NaN     NaN       NaN            NaN   \n",
            "285           NaN  ...    No         NaN     NaN       NaN            NaN   \n",
            "286           NaN  ...    No         NaN     NaN       NaN            NaN   \n",
            "287           NaN  ...    No         NaN     NaN       NaN            NaN   \n",
            "288           NaN  ...    No         NaN     NaN       NaN            NaN   \n",
            "289           NaN  ...    No         NaN     NaN       NaN            NaN   \n",
            "290           NaN  ...    No         NaN     NaN       NaN            NaN   \n",
            "291           NaN  ...    No         NaN     NaN       NaN            NaN   \n",
            "292           NaN  ...    No         NaN     NaN       NaN            NaN   \n",
            "293           NaN  ...    No         NaN     NaN       NaN            NaN   \n",
            "294           NaN  ...    No         NaN     NaN       NaN            NaN   \n",
            "\n",
            "     Traduzido Doar Número de paginas total Minoria Cliche  \n",
            "9    Traduzido   No                     NaN     NaN    NaN  \n",
            "67   Traduzido   No                     NaN     NaN    NaN  \n",
            "81   Traduzido   No                     NaN     NaN    NaN  \n",
            "123  Traduzido   No                   200.0     NaN    NaN  \n",
            "127  Traduzido   No                   464.0     NaN    NaN  \n",
            "279        NaN   No                     NaN     NaN    NaN  \n",
            "280        NaN   No                     NaN     NaN    NaN  \n",
            "281        NaN   No                     NaN     NaN    NaN  \n",
            "282        NaN   No                     NaN     NaN    NaN  \n",
            "283        NaN   No                     NaN     NaN    NaN  \n",
            "284        NaN   No                     NaN     NaN    NaN  \n",
            "285        NaN   No                     NaN     NaN    NaN  \n",
            "286        NaN   No                     NaN     NaN    NaN  \n",
            "287        NaN   No                     NaN     NaN    NaN  \n",
            "288        NaN   No                     NaN     NaN    NaN  \n",
            "289        NaN   No                     NaN     NaN    NaN  \n",
            "290        NaN   No                     NaN     NaN    NaN  \n",
            "291        NaN   No                     NaN     NaN    NaN  \n",
            "292        NaN   No                     NaN     NaN    NaN  \n",
            "293        NaN   No                     NaN     NaN    NaN  \n",
            "294        NaN   No                     NaN     NaN    NaN  \n",
            "\n",
            "[21 rows x 26 columns]\n"
          ]
        }
      ]
    },
    {
      "cell_type": "code",
      "source": [
        "filtro = books_info.loc[(books_info['Autor'] == 'Stephen King') & (books_info['Lingua'].isnull())]\n",
        "print(filtro)"
      ],
      "metadata": {
        "colab": {
          "base_uri": "https://localhost:8080/"
        },
        "collapsed": true,
        "id": "NoOpciUmWNuD",
        "outputId": "df61a6a7-4983-449b-bc12-8c6a7a758500"
      },
      "execution_count": null,
      "outputs": [
        {
          "output_type": "stream",
          "name": "stdout",
          "text": [
            "Empty DataFrame\n",
            "Columns: [Skoob, Name, Score /5, Editora, Autor, Genero Autor, Nacionalidade, Lingua, Terminado em:, Status, Tenho, Tentativas de leitura, Ku, Prime, HQ, Meta 2023, Serie, Ano Compra, Formato, Genêro, Nacional, Traduzido, Doar, Número de paginas total, Minoria, Cliche]\n",
            "Index: []\n",
            "\n",
            "[0 rows x 26 columns]\n"
          ]
        }
      ]
    },
    {
      "cell_type": "code",
      "source": [
        "books_info.loc[(books_info['Autor'] == 'Stephen King') & (books_info['Lingua'].isnull()), \"Lingua\"] = \"Portugues\"\n",
        "print(books_info[books_info['Autor'] == 'Stephen King'])"
      ],
      "metadata": {
        "colab": {
          "base_uri": "https://localhost:8080/"
        },
        "collapsed": true,
        "id": "JIYkpqjGWjlH",
        "outputId": "93075c2c-56f4-4f37-f681-d7de1fec15bc"
      },
      "execution_count": null,
      "outputs": [
        {
          "output_type": "stream",
          "name": "stdout",
          "text": [
            "    Skoob                                     Name    Score /5 Editora  \\\n",
            "9     Yes                                  Joyland      ⭐️⭐️⭐️    Suma   \n",
            "67    Yes                   Misery: Louca obsessão         NaN    Suma   \n",
            "81    Yes                              O Iluminado         NaN    Suma   \n",
            "123   Yes                                   Carrie  ⭐️⭐️⭐️⭐️⭐️    Suma   \n",
            "127    No                                    Salem         NaN    Suma   \n",
            "279    No                           Dança da morte         NaN    Suma   \n",
            "280    No                               Zona Morta         NaN    Suma   \n",
            "281    No                            A incendiaria         NaN    Suma   \n",
            "282    No                            Dança macabra         NaN    Suma   \n",
            "283    No                                     Cujo         NaN    Suma   \n",
            "284    No          Saga Torre Negra - O pistoleiro         NaN    Suma   \n",
            "285    No                          Quatro Estações         NaN    Suma   \n",
            "286    No                                Christine         NaN    Suma   \n",
            "287    No                              O cemiterio         NaN    Suma   \n",
            "288    No                                O talismã         NaN    Suma   \n",
            "289    No                               A maldição         NaN    Suma   \n",
            "290    No                      A hora do lobisomen         NaN    Suma   \n",
            "291    No                 Tripulação de esqueletos         NaN    Suma   \n",
            "292    No                             It - a coisa         NaN    Suma   \n",
            "293    No                       Os olhos do dragão         NaN    Suma   \n",
            "294    No  Saga da torre Negra - Terras devastadas         NaN    Suma   \n",
            "\n",
            "            Autor Genero Autor Nacionalidade     Lingua Terminado em:  \\\n",
            "9    Stephen King        Homem           Usa  Portugues    2023/04/16   \n",
            "67   Stephen King        Homem           Usa  Portugues           NaN   \n",
            "81   Stephen King        Homem           Usa  Portugues           NaN   \n",
            "123  Stephen King        Homem           Usa  Portugues    2024/01/12   \n",
            "127  Stephen King        Homem           Usa  Portugues           NaN   \n",
            "279  Stephen King        Homem           Usa  Portugues           NaN   \n",
            "280  Stephen King        Homem           Usa  Portugues           NaN   \n",
            "281  Stephen King        Homem           Usa  Portugues           NaN   \n",
            "282  Stephen King        Homem           Usa  Portugues           NaN   \n",
            "283  Stephen King        Homem           Usa  Portugues           NaN   \n",
            "284  Stephen King        Homem           Usa  Portugues           NaN   \n",
            "285  Stephen King        Homem           Usa  Portugues           NaN   \n",
            "286  Stephen King        Homem           Usa  Portugues           NaN   \n",
            "287  Stephen King        Homem           Usa  Portugues           NaN   \n",
            "288  Stephen King        Homem           Usa  Portugues           NaN   \n",
            "289  Stephen King        Homem           Usa  Portugues           NaN   \n",
            "290  Stephen King        Homem           Usa  Portugues           NaN   \n",
            "291  Stephen King        Homem           Usa  Portugues           NaN   \n",
            "292  Stephen King        Homem           Usa  Portugues           NaN   \n",
            "293  Stephen King        Homem           Usa  Portugues           NaN   \n",
            "294  Stephen King        Homem           Usa  Portugues           NaN   \n",
            "\n",
            "           Status  ... Serie  Ano Compra Formato    Genêro       Nacional  \\\n",
            "9            Lido  ...    No        2022  Fisico  Suspense  Internacional   \n",
            "67       Em pausa  ...    No        2023  Fisico  Suspense  Internacional   \n",
            "81   Não começado  ...    No        2022  Fisico  Suspense  Internacional   \n",
            "123          Lido  ...    No        2024  Fisico  Suspense  Internacional   \n",
            "127      Em pausa  ...    No        2024  Fisico  Suspense  Internacional   \n",
            "279           NaN  ...    No         NaN     NaN       NaN            NaN   \n",
            "280           NaN  ...    No         NaN     NaN       NaN            NaN   \n",
            "281           NaN  ...    No         NaN     NaN       NaN            NaN   \n",
            "282           NaN  ...    No         NaN     NaN       NaN            NaN   \n",
            "283           NaN  ...    No         NaN     NaN       NaN            NaN   \n",
            "284           NaN  ...    No         NaN     NaN       NaN            NaN   \n",
            "285           NaN  ...    No         NaN     NaN       NaN            NaN   \n",
            "286           NaN  ...    No         NaN     NaN       NaN            NaN   \n",
            "287           NaN  ...    No         NaN     NaN       NaN            NaN   \n",
            "288           NaN  ...    No         NaN     NaN       NaN            NaN   \n",
            "289           NaN  ...    No         NaN     NaN       NaN            NaN   \n",
            "290           NaN  ...    No         NaN     NaN       NaN            NaN   \n",
            "291           NaN  ...    No         NaN     NaN       NaN            NaN   \n",
            "292           NaN  ...    No         NaN     NaN       NaN            NaN   \n",
            "293           NaN  ...    No         NaN     NaN       NaN            NaN   \n",
            "294           NaN  ...    No         NaN     NaN       NaN            NaN   \n",
            "\n",
            "     Traduzido Doar Número de paginas total Minoria Cliche  \n",
            "9    Traduzido   No                     NaN     NaN    NaN  \n",
            "67   Traduzido   No                     NaN     NaN    NaN  \n",
            "81   Traduzido   No                     NaN     NaN    NaN  \n",
            "123  Traduzido   No                   200.0     NaN    NaN  \n",
            "127  Traduzido   No                   464.0     NaN    NaN  \n",
            "279        NaN   No                     NaN     NaN    NaN  \n",
            "280        NaN   No                     NaN     NaN    NaN  \n",
            "281        NaN   No                     NaN     NaN    NaN  \n",
            "282        NaN   No                     NaN     NaN    NaN  \n",
            "283        NaN   No                     NaN     NaN    NaN  \n",
            "284        NaN   No                     NaN     NaN    NaN  \n",
            "285        NaN   No                     NaN     NaN    NaN  \n",
            "286        NaN   No                     NaN     NaN    NaN  \n",
            "287        NaN   No                     NaN     NaN    NaN  \n",
            "288        NaN   No                     NaN     NaN    NaN  \n",
            "289        NaN   No                     NaN     NaN    NaN  \n",
            "290        NaN   No                     NaN     NaN    NaN  \n",
            "291        NaN   No                     NaN     NaN    NaN  \n",
            "292        NaN   No                     NaN     NaN    NaN  \n",
            "293        NaN   No                     NaN     NaN    NaN  \n",
            "294        NaN   No                     NaN     NaN    NaN  \n",
            "\n",
            "[21 rows x 26 columns]\n"
          ]
        }
      ]
    },
    {
      "cell_type": "code",
      "source": [
        "print(books_info.loc[books_info['Editora'].isnull()])"
      ],
      "metadata": {
        "colab": {
          "base_uri": "https://localhost:8080/"
        },
        "collapsed": true,
        "id": "s6ecrdpPXGmq",
        "outputId": "8c3d63ad-3474-46c6-90d1-8eff25e3db09"
      },
      "execution_count": null,
      "outputs": [
        {
          "output_type": "stream",
          "name": "stdout",
          "text": [
            "Empty DataFrame\n",
            "Columns: [Skoob, Name, Score /5, Editora, Autor, Genero Autor, Nacionalidade, Lingua, Terminado em:, Status, Tenho, Tentativas de leitura, Ku, Prime, HQ, Meta 2023, Serie, Ano Compra, Formato, Genêro, Nacional, Traduzido, Doar, Número de paginas total, Minoria, Cliche]\n",
            "Index: []\n",
            "\n",
            "[0 rows x 26 columns]\n"
          ]
        }
      ]
    },
    {
      "cell_type": "code",
      "source": [
        "books_info.loc[(books_info['Autor'] == 'Sarah Dessen') & (books_info['Editora'].isnull()), 'Editora'] = \"Penguin\"\n",
        "print(books_info[books_info['Autor'] == 'Sarah Dessen'])"
      ],
      "metadata": {
        "colab": {
          "base_uri": "https://localhost:8080/"
        },
        "collapsed": true,
        "id": "nNkTD3cTX4FV",
        "outputId": "462119d7-778f-4fbf-f8a0-c0cbd10ae88f"
      },
      "execution_count": null,
      "outputs": [
        {
          "output_type": "stream",
          "name": "stdout",
          "text": [
            "    Skoob                       Name    Score /5                Editora  \\\n",
            "18    Yes         A caminho do verão    ⭐️⭐️⭐️⭐️                     Id   \n",
            "24    Yes        O resto da historia    ⭐️⭐️⭐️⭐️        ‎ HarperCollins   \n",
            "85    Yes           Someone Like You         NaN       Turtleback Books   \n",
            "86    Yes    The Truth About Forever         NaN  ‎ Perfection Learning   \n",
            "87    Yes  O Que Aconteceu com Adeus         NaN                     Id   \n",
            "88    Yes                  Só escute  ⭐️⭐️⭐️⭐️⭐️               Seguinte   \n",
            "89    Yes        Uma Canção de Ninar  ⭐️⭐️⭐️⭐️⭐️               Seguinte   \n",
            "90    Yes           Os bons segredos  ⭐️⭐️⭐️⭐️⭐️               Seguinte   \n",
            "91     No               Lock And Key         NaN                  Speak   \n",
            "92     No           Once and for all         NaN                Penguin   \n",
            "93     No                   Infinity         NaN                Penguin   \n",
            "94     No          The Moon And More         NaN                  Speak   \n",
            "95     No          Keepping The Moon         NaN                  Speak   \n",
            "104    No                  Dreamland         NaN                Penguin   \n",
            "230   Yes               Aquele verão         NaN                     Id   \n",
            "\n",
            "            Autor Genero Autor Nacionalidade     Lingua Terminado em:  \\\n",
            "18   Sarah Dessen       Mulher           Usa  Portugues    2022/04/14   \n",
            "24   Sarah Dessen       Mulher           Usa  Portugues    2022/01/29   \n",
            "85   Sarah Dessen       Mulher           Usa     Ingles           NaN   \n",
            "86   Sarah Dessen       Mulher           Usa     Ingles           NaN   \n",
            "87   Sarah Dessen       Mulher           Usa  Portugues           NaN   \n",
            "88   Sarah Dessen       Mulher           Usa  Portugues           NaN   \n",
            "89   Sarah Dessen       Mulher           Usa  Portugues           NaN   \n",
            "90   Sarah Dessen       Mulher           Usa  Portugues           NaN   \n",
            "91   Sarah Dessen       Mulher           Usa     Ingles           NaN   \n",
            "92   Sarah Dessen       Mulher           Usa     Ingles           NaN   \n",
            "93   Sarah Dessen       Mulher           Usa     Ingles           NaN   \n",
            "94   Sarah Dessen       Mulher           Usa     Ingles           NaN   \n",
            "95   Sarah Dessen       Mulher           Usa     Ingles           NaN   \n",
            "104  Sarah Dessen       Mulher           Usa     Ingles           NaN   \n",
            "230  Sarah Dessen       Mulher           Usa  Portugues           NaN   \n",
            "\n",
            "           Status  ... Serie  Ano Compra Formato   Genêro       Nacional  \\\n",
            "18           Lido  ...    No        2022  Fisico  Romance  Internacional   \n",
            "24           Lido  ...    No        2022   Ebook  Romance  Internacional   \n",
            "85   Não começado  ...    No        2022  Fisico  Romance  Internacional   \n",
            "86   Não começado  ...    No        2022  Fisico  Romance  Internacional   \n",
            "87   Não começado  ...    No        2022  Fisico  Romance  Internacional   \n",
            "88           Lido  ...    No        2017  Fisico  Romance  Internacional   \n",
            "89           Lido  ...    No        2016  Fisico  Romance  Internacional   \n",
            "90           Lido  ...    No        2019  Fisico  Romance  Internacional   \n",
            "91   Não começado  ...    No         NaN  Fisico  Romance  Internacional   \n",
            "92            NaN  ...    No         NaN     NaN  Romance  Internacional   \n",
            "93            NaN  ...    No         NaN     NaN  Romance  Internacional   \n",
            "94   Não começado  ...    No         NaN  Fisico  Romance  Internacional   \n",
            "95   Não começado  ...    No         NaN  Fisico  Romance  Internacional   \n",
            "104           NaN  ...    No         NaN     NaN  Romance  Internacional   \n",
            "230      Em pausa  ...    No        2022  Fisico  Romance  Internacional   \n",
            "\n",
            "         Traduzido Doar Número de paginas total Minoria Cliche  \n",
            "18       Traduzido   No                     NaN     NaN    NaN  \n",
            "24       Traduzido   No                     NaN     NaN    NaN  \n",
            "85   Não Traduzido   No                     NaN     NaN    NaN  \n",
            "86   Não Traduzido   No                     NaN     NaN    NaN  \n",
            "87       Traduzido   No                     NaN     NaN    NaN  \n",
            "88       Traduzido   No                     NaN     NaN    NaN  \n",
            "89       Traduzido   No                     NaN     NaN    NaN  \n",
            "90       Traduzido   No                     NaN     NaN    NaN  \n",
            "91   Não Traduzido   No                     NaN     NaN    NaN  \n",
            "92   Não Traduzido   No                     NaN     NaN    NaN  \n",
            "93   Não Traduzido   No                     NaN     NaN    NaN  \n",
            "94   Não Traduzido   No                     NaN     NaN    NaN  \n",
            "95   Não Traduzido   No                     NaN     NaN    NaN  \n",
            "104  Não Traduzido   No                     NaN     NaN    NaN  \n",
            "230      Traduzido   No                     NaN     NaN    NaN  \n",
            "\n",
            "[15 rows x 26 columns]\n"
          ]
        }
      ]
    },
    {
      "cell_type": "code",
      "source": [
        "print('nulls')\n",
        "print(books_info.isnull().sum())"
      ],
      "metadata": {
        "colab": {
          "base_uri": "https://localhost:8080/"
        },
        "collapsed": true,
        "id": "5_gbnpn7YlUV",
        "outputId": "4482f988-c765-4d48-f180-601165832223"
      },
      "execution_count": null,
      "outputs": [
        {
          "output_type": "stream",
          "name": "stdout",
          "text": [
            "nulls\n",
            "Skoob                        0\n",
            "Name                         0\n",
            "Score /5                   149\n",
            "Editora                      0\n",
            "Autor                        0\n",
            "Genero Autor                 0\n",
            "Nacionalidade                0\n",
            "Lingua                       0\n",
            "Terminado em:              240\n",
            "Status                       0\n",
            "Tenho                        0\n",
            "Tentativas de leitura      276\n",
            "Ku                           0\n",
            "Prime                        0\n",
            "HQ                           0\n",
            "Meta 2023                    0\n",
            "Serie                        0\n",
            "Ano Compra                  29\n",
            "Formato                     19\n",
            "Genêro                      20\n",
            "Nacional                    16\n",
            "Traduzido                   50\n",
            "Doar                         0\n",
            "Número de paginas total    273\n",
            "Minoria                    290\n",
            "Cliche                     294\n",
            "dtype: int64\n"
          ]
        }
      ]
    },
    {
      "cell_type": "code",
      "source": [
        "print(books_info.loc[books_info['Status'].isnull()])"
      ],
      "metadata": {
        "colab": {
          "base_uri": "https://localhost:8080/"
        },
        "collapsed": true,
        "id": "k4urYAxsYqIr",
        "outputId": "b298c700-4d0a-4605-b22d-7123f443a71b"
      },
      "execution_count": null,
      "outputs": [
        {
          "output_type": "stream",
          "name": "stdout",
          "text": [
            "Empty DataFrame\n",
            "Columns: [Skoob, Name, Score /5, Editora, Autor, Genero Autor, Nacionalidade, Lingua, Terminado em:, Status, Tenho, Tentativas de leitura, Ku, Prime, HQ, Meta 2023, Serie, Ano Compra, Formato, Genêro, Nacional, Traduzido, Doar, Número de paginas total, Minoria, Cliche]\n",
            "Index: []\n",
            "\n",
            "[0 rows x 26 columns]\n"
          ]
        }
      ]
    },
    {
      "cell_type": "code",
      "source": [
        "books_info.loc[books_info['Status'].isnull(), 'Status'] = 'Não começado'"
      ],
      "metadata": {
        "id": "zN3b6BVYY5XP"
      },
      "execution_count": null,
      "outputs": []
    }
  ]
}