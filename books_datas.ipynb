{
  "nbformat": 4,
  "nbformat_minor": 0,
  "metadata": {
    "colab": {
      "provenance": [],
      "authorship_tag": "ABX9TyMb904Baf+3/11C6eMT+1Vg",
      "include_colab_link": true
    },
    "kernelspec": {
      "name": "python3",
      "display_name": "Python 3"
    },
    "language_info": {
      "name": "python"
    }
  },
  "cells": [
    {
      "cell_type": "markdown",
      "metadata": {
        "id": "view-in-github",
        "colab_type": "text"
      },
      "source": [
        "<a href=\"https://colab.research.google.com/github/nessalemos/books/blob/main/books_datas.ipynb\" target=\"_parent\"><img src=\"https://colab.research.google.com/assets/colab-badge.svg\" alt=\"Open In Colab\"/></a>"
      ]
    },
    {
      "cell_type": "code",
      "execution_count": 1,
      "metadata": {
        "id": "OMdi38yRSc_X"
      },
      "outputs": [],
      "source": [
        "import pandas as pd\n",
        "url = \"/content/todos_livros.csv\"\n",
        "books_info = pd.read_csv(url)"
      ]
    },
    {
      "cell_type": "code",
      "source": [
        "print('First Lines')\n",
        "print(books_info.head())\n",
        "\n",
        "print('Data infos')\n",
        "print(books_info.info())\n",
        "\n",
        "print('Null Datas')\n",
        "print(books_info.isnull().sum())"
      ],
      "metadata": {
        "colab": {
          "base_uri": "https://localhost:8080/"
        },
        "id": "KoMs8UKvTrla",
        "outputId": "1789eeb7-e4e4-4528-cec2-19d7aa6da30a"
      },
      "execution_count": 35,
      "outputs": [
        {
          "output_type": "stream",
          "name": "stdout",
          "text": [
            "First Lines\n",
            "  Skoob                        Name    Score /5            Editora  \\\n",
            "0   Yes             O sol desvelado         NaN               Alef   \n",
            "1   Yes        Os robôs da alvorado         NaN               Alef   \n",
            "2   Yes             Robôs e Império         NaN               Alef   \n",
            "3   Yes           Loucos por Livros  ⭐️⭐️⭐️⭐️⭐️              Verus   \n",
            "4   Yes  E foi assim que tudo mudou    ⭐️⭐️⭐️⭐️  ‎ Astral Cultural   \n",
            "\n",
            "            Autor Genero Autor Nacionalidade     Lingua Terminado em:  \\\n",
            "0    Isaac Asimov        Homem         Russo  Portugues           NaN   \n",
            "1    Isaac Asimov        Homem         Russo  Portugues           NaN   \n",
            "2    Isaac Asimov        Homem         Russo  Portugues           NaN   \n",
            "3     Emily Henry       Mulher           Usa  Portugues    2023/11/12   \n",
            "4  Thais Bergmann       Mulher        Brasil  Portugues    2023/11/05   \n",
            "\n",
            "         Status  ... Serie  Ano Compra Formato             Genêro  \\\n",
            "0  Não começado  ...    No        2023  Fisico  Ficção Cientifica   \n",
            "1  Não começado  ...    No        2023  Fisico  Ficção Cientifica   \n",
            "2  Não começado  ...    No        2023  Fisico  Ficção Cientifica   \n",
            "3          Lido  ...    No        2023  Fisico            Romance   \n",
            "4          Lido  ...    No        2023  Fisico            Romance   \n",
            "\n",
            "        Nacional  Traduzido Doar Número de paginas total Minoria Cliche  \n",
            "0  Internacional  Traduzido   No                     NaN     NaN    NaN  \n",
            "1  Internacional  Traduzido   No                     NaN     NaN    NaN  \n",
            "2  Internacional  Traduzido   No                     NaN     NaN    NaN  \n",
            "3  Internacional  Traduzido   No                   434.0     NaN    NaN  \n",
            "4       Nacional         Na   No                   240.0     NaN    NaN  \n",
            "\n",
            "[5 rows x 26 columns]\n",
            "Data infos\n",
            "<class 'pandas.core.frame.DataFrame'>\n",
            "RangeIndex: 295 entries, 0 to 294\n",
            "Data columns (total 26 columns):\n",
            " #   Column                   Non-Null Count  Dtype  \n",
            "---  ------                   --------------  -----  \n",
            " 0   Skoob                    295 non-null    object \n",
            " 1   Name                     295 non-null    object \n",
            " 2   Score /5                 146 non-null    object \n",
            " 3   Editora                  295 non-null    object \n",
            " 4   Autor                    295 non-null    object \n",
            " 5   Genero Autor             295 non-null    object \n",
            " 6   Nacionalidade            295 non-null    object \n",
            " 7   Lingua                   295 non-null    object \n",
            " 8   Terminado em:            55 non-null     object \n",
            " 9   Status                   295 non-null    object \n",
            " 10  Tenho                    295 non-null    object \n",
            " 11  Tentativas de leitura    19 non-null     float64\n",
            " 12  Ku                       295 non-null    object \n",
            " 13  Prime                    295 non-null    object \n",
            " 14  HQ                       295 non-null    object \n",
            " 15  Meta 2023                295 non-null    object \n",
            " 16  Serie                    295 non-null    object \n",
            " 17  Ano Compra               266 non-null    object \n",
            " 18  Formato                  276 non-null    object \n",
            " 19  Genêro                   275 non-null    object \n",
            " 20  Nacional                 279 non-null    object \n",
            " 21  Traduzido                245 non-null    object \n",
            " 22  Doar                     295 non-null    object \n",
            " 23  Número de paginas total  22 non-null     float64\n",
            " 24  Minoria                  5 non-null      object \n",
            " 25  Cliche                   1 non-null      object \n",
            "dtypes: float64(2), object(24)\n",
            "memory usage: 60.1+ KB\n",
            "None\n",
            "Null Datas\n",
            "Skoob                        0\n",
            "Name                         0\n",
            "Score /5                   149\n",
            "Editora                      0\n",
            "Autor                        0\n",
            "Genero Autor                 0\n",
            "Nacionalidade                0\n",
            "Lingua                       0\n",
            "Terminado em:              240\n",
            "Status                       0\n",
            "Tenho                        0\n",
            "Tentativas de leitura      276\n",
            "Ku                           0\n",
            "Prime                        0\n",
            "HQ                           0\n",
            "Meta 2023                    0\n",
            "Serie                        0\n",
            "Ano Compra                  29\n",
            "Formato                     19\n",
            "Genêro                      20\n",
            "Nacional                    16\n",
            "Traduzido                   50\n",
            "Doar                         0\n",
            "Número de paginas total    273\n",
            "Minoria                    290\n",
            "Cliche                     294\n",
            "dtype: int64\n"
          ]
        }
      ]
    },
    {
      "cell_type": "code",
      "source": [
        "filterEditoraNull = books_info.loc[books_info['Editora'].isnull()]\n",
        "print(filterEditoraNull)"
      ],
      "metadata": {
        "collapsed": true,
        "id": "zawM4QizpNBI",
        "outputId": "6051cbfd-4c30-4b7b-8918-80740bc53993",
        "colab": {
          "base_uri": "https://localhost:8080/"
        }
      },
      "execution_count": 25,
      "outputs": [
        {
          "output_type": "stream",
          "name": "stdout",
          "text": [
            "    Skoob              Name Score /5 Editora         Autor Genero Autor  \\\n",
            "92     No  Once and for all      NaN     NaN  Sarah Dessen       Mulher   \n",
            "93     No          Infinity      NaN     NaN  Sarah Dessen       Mulher   \n",
            "104    No         Dreamland      NaN     NaN  Sarah Dessen       Mulher   \n",
            "\n",
            "    Nacionalidade  Lingua Terminado em: Status  ... Serie  Ano Compra Formato  \\\n",
            "92            Usa  Ingles           NaN    NaN  ...    No         NaN     NaN   \n",
            "93            Usa  Ingles           NaN    NaN  ...    No         NaN     NaN   \n",
            "104           Usa  Ingles           NaN    NaN  ...    No         NaN     NaN   \n",
            "\n",
            "      Genêro       Nacional      Traduzido Doar Número de paginas total  \\\n",
            "92   Romance  Internacional  Não Traduzido   No                     NaN   \n",
            "93   Romance  Internacional  Não Traduzido   No                     NaN   \n",
            "104  Romance  Internacional  Não Traduzido   No                     NaN   \n",
            "\n",
            "    Minoria Cliche  \n",
            "92      NaN    NaN  \n",
            "93      NaN    NaN  \n",
            "104     NaN    NaN  \n",
            "\n",
            "[3 rows x 26 columns]\n"
          ]
        }
      ]
    },
    {
      "cell_type": "code",
      "source": [
        "def fillEditora(autor, editora):\n",
        "  books_info.loc[(books_info['Autor'] == autor) & (books_info['Editora'].isnull()), 'Editora'] = editora"
      ],
      "metadata": {
        "id": "0HGKg0uppq4p"
      },
      "execution_count": 18,
      "outputs": []
    },
    {
      "cell_type": "code",
      "source": [
        "def findAutor(autor):\n",
        "  print(books_info[books_info['Autor'] == autor])"
      ],
      "metadata": {
        "id": "0sLeMuFlqDAQ"
      },
      "execution_count": 23,
      "outputs": []
    },
    {
      "cell_type": "code",
      "source": [
        "fillEditora('Stephen King', 'Suma')\n",
        "findAutor('Stephen King')"
      ],
      "metadata": {
        "collapsed": true,
        "id": "KaY9ei2nqUPO",
        "outputId": "90e3d518-86d6-4ca1-806e-ca3970712816",
        "colab": {
          "base_uri": "https://localhost:8080/"
        }
      },
      "execution_count": 24,
      "outputs": [
        {
          "output_type": "stream",
          "name": "stdout",
          "text": [
            "    Skoob                                     Name    Score /5 Editora  \\\n",
            "9     Yes                                  Joyland      ⭐️⭐️⭐️    Suma   \n",
            "67    Yes                   Misery: Louca obsessão         NaN    Suma   \n",
            "81    Yes                              O Iluminado         NaN    Suma   \n",
            "123   Yes                                   Carrie  ⭐️⭐️⭐️⭐️⭐️    Suma   \n",
            "127    No                                    Salem         NaN    Suma   \n",
            "279    No                           Dança da morte         NaN    Suma   \n",
            "280    No                               Zona Morta         NaN    Suma   \n",
            "281    No                            A incendiaria         NaN    Suma   \n",
            "282    No                            Dança macabra         NaN    Suma   \n",
            "283    No                                     Cujo         NaN    Suma   \n",
            "284    No          Saga Torre Negra - O pistoleiro         NaN    Suma   \n",
            "285    No                          Quatro Estações         NaN    Suma   \n",
            "286    No                                Christine         NaN    Suma   \n",
            "287    No                              O cemiterio         NaN    Suma   \n",
            "288    No                                O talismã         NaN    Suma   \n",
            "289    No                               A maldição         NaN    Suma   \n",
            "290    No                      A hora do lobisomen         NaN    Suma   \n",
            "291    No                 Tripulação de esqueletos         NaN    Suma   \n",
            "292    No                             It - a coisa         NaN    Suma   \n",
            "293    No                       Os olhos do dragão         NaN    Suma   \n",
            "294    No  Saga da torre Negra - Terras devastadas         NaN    Suma   \n",
            "\n",
            "            Autor Genero Autor Nacionalidade     Lingua Terminado em:  \\\n",
            "9    Stephen King        Homem           Usa  Portugues    2023/04/16   \n",
            "67   Stephen King        Homem           Usa  Portugues           NaN   \n",
            "81   Stephen King        Homem           Usa  Portugues           NaN   \n",
            "123  Stephen King        Homem           Usa  Portugues    2024/01/12   \n",
            "127  Stephen King        Homem           Usa  Portugues           NaN   \n",
            "279  Stephen King        Homem           Usa        NaN           NaN   \n",
            "280  Stephen King        Homem           Usa        NaN           NaN   \n",
            "281  Stephen King        Homem           Usa        NaN           NaN   \n",
            "282  Stephen King        Homem           Usa        NaN           NaN   \n",
            "283  Stephen King        Homem           Usa        NaN           NaN   \n",
            "284  Stephen King        Homem           Usa        NaN           NaN   \n",
            "285  Stephen King        Homem           Usa        NaN           NaN   \n",
            "286  Stephen King        Homem           Usa        NaN           NaN   \n",
            "287  Stephen King        Homem           Usa        NaN           NaN   \n",
            "288  Stephen King        Homem           Usa        NaN           NaN   \n",
            "289  Stephen King        Homem           Usa        NaN           NaN   \n",
            "290  Stephen King        Homem           Usa        NaN           NaN   \n",
            "291  Stephen King        Homem           Usa        NaN           NaN   \n",
            "292  Stephen King        Homem           Usa        NaN           NaN   \n",
            "293  Stephen King        Homem           Usa        NaN           NaN   \n",
            "294  Stephen King        Homem           Usa        NaN           NaN   \n",
            "\n",
            "           Status  ... Serie  Ano Compra Formato    Genêro       Nacional  \\\n",
            "9            Lido  ...    No        2022  Fisico  Suspense  Internacional   \n",
            "67       Em pausa  ...    No        2023  Fisico  Suspense  Internacional   \n",
            "81   Não começado  ...    No        2022  Fisico  Suspense  Internacional   \n",
            "123          Lido  ...    No        2024  Fisico  Suspense  Internacional   \n",
            "127      Em pausa  ...    No        2024  Fisico  Suspense  Internacional   \n",
            "279           NaN  ...    No         NaN     NaN       NaN            NaN   \n",
            "280           NaN  ...    No         NaN     NaN       NaN            NaN   \n",
            "281           NaN  ...    No         NaN     NaN       NaN            NaN   \n",
            "282           NaN  ...    No         NaN     NaN       NaN            NaN   \n",
            "283           NaN  ...    No         NaN     NaN       NaN            NaN   \n",
            "284           NaN  ...    No         NaN     NaN       NaN            NaN   \n",
            "285           NaN  ...    No         NaN     NaN       NaN            NaN   \n",
            "286           NaN  ...    No         NaN     NaN       NaN            NaN   \n",
            "287           NaN  ...    No         NaN     NaN       NaN            NaN   \n",
            "288           NaN  ...    No         NaN     NaN       NaN            NaN   \n",
            "289           NaN  ...    No         NaN     NaN       NaN            NaN   \n",
            "290           NaN  ...    No         NaN     NaN       NaN            NaN   \n",
            "291           NaN  ...    No         NaN     NaN       NaN            NaN   \n",
            "292           NaN  ...    No         NaN     NaN       NaN            NaN   \n",
            "293           NaN  ...    No         NaN     NaN       NaN            NaN   \n",
            "294           NaN  ...    No         NaN     NaN       NaN            NaN   \n",
            "\n",
            "     Traduzido Doar Número de paginas total Minoria Cliche  \n",
            "9    Traduzido   No                     NaN     NaN    NaN  \n",
            "67   Traduzido   No                     NaN     NaN    NaN  \n",
            "81   Traduzido   No                     NaN     NaN    NaN  \n",
            "123  Traduzido   No                   200.0     NaN    NaN  \n",
            "127  Traduzido   No                   464.0     NaN    NaN  \n",
            "279        NaN   No                     NaN     NaN    NaN  \n",
            "280        NaN   No                     NaN     NaN    NaN  \n",
            "281        NaN   No                     NaN     NaN    NaN  \n",
            "282        NaN   No                     NaN     NaN    NaN  \n",
            "283        NaN   No                     NaN     NaN    NaN  \n",
            "284        NaN   No                     NaN     NaN    NaN  \n",
            "285        NaN   No                     NaN     NaN    NaN  \n",
            "286        NaN   No                     NaN     NaN    NaN  \n",
            "287        NaN   No                     NaN     NaN    NaN  \n",
            "288        NaN   No                     NaN     NaN    NaN  \n",
            "289        NaN   No                     NaN     NaN    NaN  \n",
            "290        NaN   No                     NaN     NaN    NaN  \n",
            "291        NaN   No                     NaN     NaN    NaN  \n",
            "292        NaN   No                     NaN     NaN    NaN  \n",
            "293        NaN   No                     NaN     NaN    NaN  \n",
            "294        NaN   No                     NaN     NaN    NaN  \n",
            "\n",
            "[21 rows x 26 columns]\n"
          ]
        }
      ]
    },
    {
      "cell_type": "code",
      "source": [
        "fillEditora('Sarah Dessen', 'Penguin')\n",
        "findAutor('Sarah Dessen')"
      ],
      "metadata": {
        "collapsed": true,
        "id": "C_sh7hLZq7kZ",
        "outputId": "1d5179e4-7ac9-49da-f3eb-2c4dacebd017",
        "colab": {
          "base_uri": "https://localhost:8080/"
        }
      },
      "execution_count": 26,
      "outputs": [
        {
          "output_type": "stream",
          "name": "stdout",
          "text": [
            "    Skoob                       Name    Score /5                Editora  \\\n",
            "18    Yes         A caminho do verão    ⭐️⭐️⭐️⭐️                     Id   \n",
            "24    Yes        O resto da historia    ⭐️⭐️⭐️⭐️        ‎ HarperCollins   \n",
            "85    Yes           Someone Like You         NaN       Turtleback Books   \n",
            "86    Yes    The Truth About Forever         NaN  ‎ Perfection Learning   \n",
            "87    Yes  O Que Aconteceu com Adeus         NaN                     Id   \n",
            "88    Yes                  Só escute  ⭐️⭐️⭐️⭐️⭐️               Seguinte   \n",
            "89    Yes        Uma Canção de Ninar  ⭐️⭐️⭐️⭐️⭐️               Seguinte   \n",
            "90    Yes           Os bons segredos  ⭐️⭐️⭐️⭐️⭐️               Seguinte   \n",
            "91     No               Lock And Key         NaN                  Speak   \n",
            "92     No           Once and for all         NaN                Penguin   \n",
            "93     No                   Infinity         NaN                Penguin   \n",
            "94     No          The Moon And More         NaN                  Speak   \n",
            "95     No          Keepping The Moon         NaN                  Speak   \n",
            "104    No                  Dreamland         NaN                Penguin   \n",
            "230   Yes               Aquele verão         NaN                     Id   \n",
            "\n",
            "            Autor Genero Autor Nacionalidade     Lingua Terminado em:  \\\n",
            "18   Sarah Dessen       Mulher           Usa  Portugues    2022/04/14   \n",
            "24   Sarah Dessen       Mulher           Usa  Portugues    2022/01/29   \n",
            "85   Sarah Dessen       Mulher           Usa     Ingles           NaN   \n",
            "86   Sarah Dessen       Mulher           Usa     Ingles           NaN   \n",
            "87   Sarah Dessen       Mulher           Usa  Portugues           NaN   \n",
            "88   Sarah Dessen       Mulher           Usa  Portugues           NaN   \n",
            "89   Sarah Dessen       Mulher           Usa  Portugues           NaN   \n",
            "90   Sarah Dessen       Mulher           Usa  Portugues           NaN   \n",
            "91   Sarah Dessen       Mulher           Usa     Ingles           NaN   \n",
            "92   Sarah Dessen       Mulher           Usa     Ingles           NaN   \n",
            "93   Sarah Dessen       Mulher           Usa     Ingles           NaN   \n",
            "94   Sarah Dessen       Mulher           Usa     Ingles           NaN   \n",
            "95   Sarah Dessen       Mulher           Usa     Ingles           NaN   \n",
            "104  Sarah Dessen       Mulher           Usa     Ingles           NaN   \n",
            "230  Sarah Dessen       Mulher           Usa  Portugues           NaN   \n",
            "\n",
            "           Status  ... Serie  Ano Compra Formato   Genêro       Nacional  \\\n",
            "18           Lido  ...    No        2022  Fisico  Romance  Internacional   \n",
            "24           Lido  ...    No        2022   Ebook  Romance  Internacional   \n",
            "85   Não começado  ...    No        2022  Fisico  Romance  Internacional   \n",
            "86   Não começado  ...    No        2022  Fisico  Romance  Internacional   \n",
            "87   Não começado  ...    No        2022  Fisico  Romance  Internacional   \n",
            "88           Lido  ...    No        2017  Fisico  Romance  Internacional   \n",
            "89           Lido  ...    No        2016  Fisico  Romance  Internacional   \n",
            "90           Lido  ...    No        2019  Fisico  Romance  Internacional   \n",
            "91   Não começado  ...    No         NaN  Fisico  Romance  Internacional   \n",
            "92            NaN  ...    No         NaN     NaN  Romance  Internacional   \n",
            "93            NaN  ...    No         NaN     NaN  Romance  Internacional   \n",
            "94   Não começado  ...    No         NaN  Fisico  Romance  Internacional   \n",
            "95   Não começado  ...    No         NaN  Fisico  Romance  Internacional   \n",
            "104           NaN  ...    No         NaN     NaN  Romance  Internacional   \n",
            "230      Em pausa  ...    No        2022  Fisico  Romance  Internacional   \n",
            "\n",
            "         Traduzido Doar Número de paginas total Minoria Cliche  \n",
            "18       Traduzido   No                     NaN     NaN    NaN  \n",
            "24       Traduzido   No                     NaN     NaN    NaN  \n",
            "85   Não Traduzido   No                     NaN     NaN    NaN  \n",
            "86   Não Traduzido   No                     NaN     NaN    NaN  \n",
            "87       Traduzido   No                     NaN     NaN    NaN  \n",
            "88       Traduzido   No                     NaN     NaN    NaN  \n",
            "89       Traduzido   No                     NaN     NaN    NaN  \n",
            "90       Traduzido   No                     NaN     NaN    NaN  \n",
            "91   Não Traduzido   No                     NaN     NaN    NaN  \n",
            "92   Não Traduzido   No                     NaN     NaN    NaN  \n",
            "93   Não Traduzido   No                     NaN     NaN    NaN  \n",
            "94   Não Traduzido   No                     NaN     NaN    NaN  \n",
            "95   Não Traduzido   No                     NaN     NaN    NaN  \n",
            "104  Não Traduzido   No                     NaN     NaN    NaN  \n",
            "230      Traduzido   No                     NaN     NaN    NaN  \n",
            "\n",
            "[15 rows x 26 columns]\n"
          ]
        }
      ]
    },
    {
      "cell_type": "code",
      "source": [
        "filterLanguageNull = books_info.loc[books_info['Lingua'].isnull()]\n",
        "print(filterLanguageNull)"
      ],
      "metadata": {
        "collapsed": true,
        "id": "vZXHQzyNrKoM",
        "outputId": "0111dc43-212d-4497-da4d-0893efe25fb7",
        "colab": {
          "base_uri": "https://localhost:8080/"
        }
      },
      "execution_count": 27,
      "outputs": [
        {
          "output_type": "stream",
          "name": "stdout",
          "text": [
            "    Skoob                                     Name Score /5 Editora  \\\n",
            "279    No                           Dança da morte      NaN    Suma   \n",
            "280    No                               Zona Morta      NaN    Suma   \n",
            "281    No                            A incendiaria      NaN    Suma   \n",
            "282    No                            Dança macabra      NaN    Suma   \n",
            "283    No                                     Cujo      NaN    Suma   \n",
            "284    No          Saga Torre Negra - O pistoleiro      NaN    Suma   \n",
            "285    No                          Quatro Estações      NaN    Suma   \n",
            "286    No                                Christine      NaN    Suma   \n",
            "287    No                              O cemiterio      NaN    Suma   \n",
            "288    No                                O talismã      NaN    Suma   \n",
            "289    No                               A maldição      NaN    Suma   \n",
            "290    No                      A hora do lobisomen      NaN    Suma   \n",
            "291    No                 Tripulação de esqueletos      NaN    Suma   \n",
            "292    No                             It - a coisa      NaN    Suma   \n",
            "293    No                       Os olhos do dragão      NaN    Suma   \n",
            "294    No  Saga da torre Negra - Terras devastadas      NaN    Suma   \n",
            "\n",
            "            Autor Genero Autor Nacionalidade Lingua Terminado em: Status  ...  \\\n",
            "279  Stephen King        Homem           Usa    NaN           NaN    NaN  ...   \n",
            "280  Stephen King        Homem           Usa    NaN           NaN    NaN  ...   \n",
            "281  Stephen King        Homem           Usa    NaN           NaN    NaN  ...   \n",
            "282  Stephen King        Homem           Usa    NaN           NaN    NaN  ...   \n",
            "283  Stephen King        Homem           Usa    NaN           NaN    NaN  ...   \n",
            "284  Stephen King        Homem           Usa    NaN           NaN    NaN  ...   \n",
            "285  Stephen King        Homem           Usa    NaN           NaN    NaN  ...   \n",
            "286  Stephen King        Homem           Usa    NaN           NaN    NaN  ...   \n",
            "287  Stephen King        Homem           Usa    NaN           NaN    NaN  ...   \n",
            "288  Stephen King        Homem           Usa    NaN           NaN    NaN  ...   \n",
            "289  Stephen King        Homem           Usa    NaN           NaN    NaN  ...   \n",
            "290  Stephen King        Homem           Usa    NaN           NaN    NaN  ...   \n",
            "291  Stephen King        Homem           Usa    NaN           NaN    NaN  ...   \n",
            "292  Stephen King        Homem           Usa    NaN           NaN    NaN  ...   \n",
            "293  Stephen King        Homem           Usa    NaN           NaN    NaN  ...   \n",
            "294  Stephen King        Homem           Usa    NaN           NaN    NaN  ...   \n",
            "\n",
            "    Serie  Ano Compra Formato Genêro Nacional Traduzido Doar  \\\n",
            "279    No         NaN     NaN    NaN      NaN       NaN   No   \n",
            "280    No         NaN     NaN    NaN      NaN       NaN   No   \n",
            "281    No         NaN     NaN    NaN      NaN       NaN   No   \n",
            "282    No         NaN     NaN    NaN      NaN       NaN   No   \n",
            "283    No         NaN     NaN    NaN      NaN       NaN   No   \n",
            "284    No         NaN     NaN    NaN      NaN       NaN   No   \n",
            "285    No         NaN     NaN    NaN      NaN       NaN   No   \n",
            "286    No         NaN     NaN    NaN      NaN       NaN   No   \n",
            "287    No         NaN     NaN    NaN      NaN       NaN   No   \n",
            "288    No         NaN     NaN    NaN      NaN       NaN   No   \n",
            "289    No         NaN     NaN    NaN      NaN       NaN   No   \n",
            "290    No         NaN     NaN    NaN      NaN       NaN   No   \n",
            "291    No         NaN     NaN    NaN      NaN       NaN   No   \n",
            "292    No         NaN     NaN    NaN      NaN       NaN   No   \n",
            "293    No         NaN     NaN    NaN      NaN       NaN   No   \n",
            "294    No         NaN     NaN    NaN      NaN       NaN   No   \n",
            "\n",
            "    Número de paginas total Minoria Cliche  \n",
            "279                     NaN     NaN    NaN  \n",
            "280                     NaN     NaN    NaN  \n",
            "281                     NaN     NaN    NaN  \n",
            "282                     NaN     NaN    NaN  \n",
            "283                     NaN     NaN    NaN  \n",
            "284                     NaN     NaN    NaN  \n",
            "285                     NaN     NaN    NaN  \n",
            "286                     NaN     NaN    NaN  \n",
            "287                     NaN     NaN    NaN  \n",
            "288                     NaN     NaN    NaN  \n",
            "289                     NaN     NaN    NaN  \n",
            "290                     NaN     NaN    NaN  \n",
            "291                     NaN     NaN    NaN  \n",
            "292                     NaN     NaN    NaN  \n",
            "293                     NaN     NaN    NaN  \n",
            "294                     NaN     NaN    NaN  \n",
            "\n",
            "[16 rows x 26 columns]\n"
          ]
        }
      ]
    },
    {
      "cell_type": "code",
      "source": [
        "def fillLanguage(autor, language):\n",
        "  books_info.loc[(books_info['Autor'] == autor) & (books_info['Lingua'].isnull()), \"Lingua\"] = language"
      ],
      "metadata": {
        "id": "TabzLkE7rRUH"
      },
      "execution_count": 28,
      "outputs": []
    },
    {
      "cell_type": "code",
      "source": [
        "fillLanguage('Stephen King', 'Portugues')\n",
        "findAutor('Stephen King')"
      ],
      "metadata": {
        "collapsed": true,
        "id": "8ZK36CiTruCW",
        "outputId": "c582cdc0-3d2e-436c-b1c7-81f7fd01277c",
        "colab": {
          "base_uri": "https://localhost:8080/"
        }
      },
      "execution_count": 30,
      "outputs": [
        {
          "output_type": "stream",
          "name": "stdout",
          "text": [
            "    Skoob                                     Name    Score /5 Editora  \\\n",
            "9     Yes                                  Joyland      ⭐️⭐️⭐️    Suma   \n",
            "67    Yes                   Misery: Louca obsessão         NaN    Suma   \n",
            "81    Yes                              O Iluminado         NaN    Suma   \n",
            "123   Yes                                   Carrie  ⭐️⭐️⭐️⭐️⭐️    Suma   \n",
            "127    No                                    Salem         NaN    Suma   \n",
            "279    No                           Dança da morte         NaN    Suma   \n",
            "280    No                               Zona Morta         NaN    Suma   \n",
            "281    No                            A incendiaria         NaN    Suma   \n",
            "282    No                            Dança macabra         NaN    Suma   \n",
            "283    No                                     Cujo         NaN    Suma   \n",
            "284    No          Saga Torre Negra - O pistoleiro         NaN    Suma   \n",
            "285    No                          Quatro Estações         NaN    Suma   \n",
            "286    No                                Christine         NaN    Suma   \n",
            "287    No                              O cemiterio         NaN    Suma   \n",
            "288    No                                O talismã         NaN    Suma   \n",
            "289    No                               A maldição         NaN    Suma   \n",
            "290    No                      A hora do lobisomen         NaN    Suma   \n",
            "291    No                 Tripulação de esqueletos         NaN    Suma   \n",
            "292    No                             It - a coisa         NaN    Suma   \n",
            "293    No                       Os olhos do dragão         NaN    Suma   \n",
            "294    No  Saga da torre Negra - Terras devastadas         NaN    Suma   \n",
            "\n",
            "            Autor Genero Autor Nacionalidade     Lingua Terminado em:  \\\n",
            "9    Stephen King        Homem           Usa  Portugues    2023/04/16   \n",
            "67   Stephen King        Homem           Usa  Portugues           NaN   \n",
            "81   Stephen King        Homem           Usa  Portugues           NaN   \n",
            "123  Stephen King        Homem           Usa  Portugues    2024/01/12   \n",
            "127  Stephen King        Homem           Usa  Portugues           NaN   \n",
            "279  Stephen King        Homem           Usa  Portugues           NaN   \n",
            "280  Stephen King        Homem           Usa  Portugues           NaN   \n",
            "281  Stephen King        Homem           Usa  Portugues           NaN   \n",
            "282  Stephen King        Homem           Usa  Portugues           NaN   \n",
            "283  Stephen King        Homem           Usa  Portugues           NaN   \n",
            "284  Stephen King        Homem           Usa  Portugues           NaN   \n",
            "285  Stephen King        Homem           Usa  Portugues           NaN   \n",
            "286  Stephen King        Homem           Usa  Portugues           NaN   \n",
            "287  Stephen King        Homem           Usa  Portugues           NaN   \n",
            "288  Stephen King        Homem           Usa  Portugues           NaN   \n",
            "289  Stephen King        Homem           Usa  Portugues           NaN   \n",
            "290  Stephen King        Homem           Usa  Portugues           NaN   \n",
            "291  Stephen King        Homem           Usa  Portugues           NaN   \n",
            "292  Stephen King        Homem           Usa  Portugues           NaN   \n",
            "293  Stephen King        Homem           Usa  Portugues           NaN   \n",
            "294  Stephen King        Homem           Usa  Portugues           NaN   \n",
            "\n",
            "           Status  ... Serie  Ano Compra Formato    Genêro       Nacional  \\\n",
            "9            Lido  ...    No        2022  Fisico  Suspense  Internacional   \n",
            "67       Em pausa  ...    No        2023  Fisico  Suspense  Internacional   \n",
            "81   Não começado  ...    No        2022  Fisico  Suspense  Internacional   \n",
            "123          Lido  ...    No        2024  Fisico  Suspense  Internacional   \n",
            "127      Em pausa  ...    No        2024  Fisico  Suspense  Internacional   \n",
            "279           NaN  ...    No         NaN     NaN       NaN            NaN   \n",
            "280           NaN  ...    No         NaN     NaN       NaN            NaN   \n",
            "281           NaN  ...    No         NaN     NaN       NaN            NaN   \n",
            "282           NaN  ...    No         NaN     NaN       NaN            NaN   \n",
            "283           NaN  ...    No         NaN     NaN       NaN            NaN   \n",
            "284           NaN  ...    No         NaN     NaN       NaN            NaN   \n",
            "285           NaN  ...    No         NaN     NaN       NaN            NaN   \n",
            "286           NaN  ...    No         NaN     NaN       NaN            NaN   \n",
            "287           NaN  ...    No         NaN     NaN       NaN            NaN   \n",
            "288           NaN  ...    No         NaN     NaN       NaN            NaN   \n",
            "289           NaN  ...    No         NaN     NaN       NaN            NaN   \n",
            "290           NaN  ...    No         NaN     NaN       NaN            NaN   \n",
            "291           NaN  ...    No         NaN     NaN       NaN            NaN   \n",
            "292           NaN  ...    No         NaN     NaN       NaN            NaN   \n",
            "293           NaN  ...    No         NaN     NaN       NaN            NaN   \n",
            "294           NaN  ...    No         NaN     NaN       NaN            NaN   \n",
            "\n",
            "     Traduzido Doar Número de paginas total Minoria Cliche  \n",
            "9    Traduzido   No                     NaN     NaN    NaN  \n",
            "67   Traduzido   No                     NaN     NaN    NaN  \n",
            "81   Traduzido   No                     NaN     NaN    NaN  \n",
            "123  Traduzido   No                   200.0     NaN    NaN  \n",
            "127  Traduzido   No                   464.0     NaN    NaN  \n",
            "279        NaN   No                     NaN     NaN    NaN  \n",
            "280        NaN   No                     NaN     NaN    NaN  \n",
            "281        NaN   No                     NaN     NaN    NaN  \n",
            "282        NaN   No                     NaN     NaN    NaN  \n",
            "283        NaN   No                     NaN     NaN    NaN  \n",
            "284        NaN   No                     NaN     NaN    NaN  \n",
            "285        NaN   No                     NaN     NaN    NaN  \n",
            "286        NaN   No                     NaN     NaN    NaN  \n",
            "287        NaN   No                     NaN     NaN    NaN  \n",
            "288        NaN   No                     NaN     NaN    NaN  \n",
            "289        NaN   No                     NaN     NaN    NaN  \n",
            "290        NaN   No                     NaN     NaN    NaN  \n",
            "291        NaN   No                     NaN     NaN    NaN  \n",
            "292        NaN   No                     NaN     NaN    NaN  \n",
            "293        NaN   No                     NaN     NaN    NaN  \n",
            "294        NaN   No                     NaN     NaN    NaN  \n",
            "\n",
            "[21 rows x 26 columns]\n"
          ]
        }
      ]
    },
    {
      "cell_type": "code",
      "source": [
        "def fillStatus():\n",
        "  books_info.loc[books_info['Status'].isnull(), 'Status'] = 'Não começado'"
      ],
      "metadata": {
        "id": "tKdfxfxysC4u"
      },
      "execution_count": 31,
      "outputs": []
    },
    {
      "cell_type": "code",
      "source": [
        "fillStatus()\n",
        "print(books_info.loc[books_info['Status'].isnull()])"
      ],
      "metadata": {
        "colab": {
          "base_uri": "https://localhost:8080/"
        },
        "collapsed": true,
        "id": "k4urYAxsYqIr",
        "outputId": "c41c2ea4-4c54-40e9-9ce9-1ae3358064f0"
      },
      "execution_count": 33,
      "outputs": [
        {
          "output_type": "stream",
          "name": "stdout",
          "text": [
            "Empty DataFrame\n",
            "Columns: [Skoob, Name, Score /5, Editora, Autor, Genero Autor, Nacionalidade, Lingua, Terminado em:, Status, Tenho, Tentativas de leitura, Ku, Prime, HQ, Meta 2023, Serie, Ano Compra, Formato, Genêro, Nacional, Traduzido, Doar, Número de paginas total, Minoria, Cliche]\n",
            "Index: []\n",
            "\n",
            "[0 rows x 26 columns]\n"
          ]
        }
      ]
    }
  ]
}